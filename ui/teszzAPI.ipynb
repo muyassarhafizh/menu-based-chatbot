{
 "cells": [
  {
   "cell_type": "code",
   "execution_count": 2,
   "metadata": {},
   "outputs": [
    {
     "name": "stdout",
     "output_type": "stream",
     "text": [
      "Unable to find order with the order number you provided: 2\n"
     ]
    }
   ],
   "source": [
    "import requests\n",
    "\n",
    "url = 'https://acda-103-125-37-137.ngrok-free.app/webhooks/rest/webhook'\n",
    "params = {\n",
    "    'message': \"What's my order status for order 2?\",\n",
    "}\n",
    "headers = {\n",
    "    # \"Content-Type\": \"application/json\"\n",
    "    }\n",
    "\n",
    "response = requests.post(url, json=params, headers=headers)\n",
    "if response.status_code == 200:\n",
    "    # print(response.json().replace(\"\\'\",''))\n",
    "    print(response.json()[0]['text'])\n",
    "else:   \n",
    "    print(f'Request failed with status code {response.status_code}.')"
   ]
  },
  {
   "cell_type": "code",
   "execution_count": 7,
   "metadata": {},
   "outputs": [
    {
     "data": {
      "text/plain": [
       "<Response [200]>"
      ]
     },
     "execution_count": 7,
     "metadata": {},
     "output_type": "execute_result"
    }
   ],
   "source": [
    "response = requests.post('https://acda-103-125-37-137.ngrok-free.app/webhooks/rest/webhook', json={\"message\":\"what are you?\"})\n",
    "response"
   ]
  },
  {
   "cell_type": "code",
   "execution_count": 1,
   "metadata": {},
   "outputs": [
    {
     "ename": "ModuleNotFoundError",
     "evalue": "No module named 'requests'",
     "output_type": "error",
     "traceback": [
      "\u001b[1;31m---------------------------------------------------------------------------\u001b[0m",
      "\u001b[1;31mModuleNotFoundError\u001b[0m                       Traceback (most recent call last)",
      "Cell \u001b[1;32mIn[1], line 1\u001b[0m\n\u001b[1;32m----> 1\u001b[0m \u001b[39mimport\u001b[39;00m \u001b[39mrequests\u001b[39;00m\n",
      "\u001b[1;31mModuleNotFoundError\u001b[0m: No module named 'requests'"
     ]
    }
   ],
   "source": [
    "import requests"
   ]
  },
  {
   "cell_type": "code",
   "execution_count": null,
   "metadata": {},
   "outputs": [],
   "source": []
  }
 ],
 "metadata": {
  "kernelspec": {
   "display_name": "rasa",
   "language": "python",
   "name": "python3"
  },
  "language_info": {
   "codemirror_mode": {
    "name": "ipython",
    "version": 3
   },
   "file_extension": ".py",
   "mimetype": "text/x-python",
   "name": "python",
   "nbconvert_exporter": "python",
   "pygments_lexer": "ipython3",
   "version": "3.11.3"
  },
  "orig_nbformat": 4
 },
 "nbformat": 4,
 "nbformat_minor": 2
}
